{
 "cells": [
  {
   "cell_type": "code",
   "execution_count": 2,
   "id": "a59ad5fe",
   "metadata": {},
   "outputs": [
    {
     "name": "stdout",
     "output_type": "stream",
     "text": [
      "🔧 Simple Data Balancer\n",
      "   Source: classification\n",
      "   Output: classification_balanced_500\n",
      "\n",
      "📊 Current Distribution:\n",
      "   Class 18: 408 images (28.4%)\n",
      "   Class 19: 67 images (4.7%)\n",
      "   Class 20: 259 images (18.0%)\n",
      "   Class 3: 38 images (2.6%)\n",
      "   Class 4: 235 images (16.4%)\n",
      "   Class 5: 67 images (4.7%)\n",
      "   Class 6: 159 images (11.1%)\n",
      "   Class 7: 49 images (3.4%)\n",
      "   Class 8: 24 images (1.7%)\n",
      "   Class 9: 131 images (9.1%)\n",
      "   Total: 1,437 images\n",
      "   Imbalance ratio: 17.0:1\n",
      "\n",
      "📊 Current Distribution:\n",
      "   Class 18: 408 images (28.4%)\n",
      "   Class 19: 67 images (4.7%)\n",
      "   Class 20: 259 images (18.0%)\n",
      "   Class 3: 38 images (2.6%)\n",
      "   Class 4: 235 images (16.4%)\n",
      "   Class 5: 67 images (4.7%)\n",
      "   Class 6: 159 images (11.1%)\n",
      "   Class 7: 49 images (3.4%)\n",
      "   Class 8: 24 images (1.7%)\n",
      "   Class 9: 131 images (9.1%)\n",
      "   Total: 1,437 images\n",
      "   Imbalance ratio: 17.0:1\n",
      "\n",
      "🎯 Balancing all classes to 500 images each\n",
      "\n",
      "🚀 Balancing to target distribution...\n",
      "   Augmentation level: medium\n",
      "\n",
      "📊 Current Distribution:\n",
      "   Class 18: 408 images (28.4%)\n",
      "   Class 19: 67 images (4.7%)\n",
      "   Class 20: 259 images (18.0%)\n",
      "   Class 3: 38 images (2.6%)\n",
      "   Class 4: 235 images (16.4%)\n",
      "   Class 5: 67 images (4.7%)\n",
      "   Class 6: 159 images (11.1%)\n",
      "   Class 7: 49 images (3.4%)\n",
      "   Class 8: 24 images (1.7%)\n",
      "   Class 9: 131 images (9.1%)\n",
      "   Total: 1,437 images\n",
      "   Imbalance ratio: 17.0:1\n",
      "\n",
      "📁 Processing 19: 67 → 500\n",
      "   ⬆️  Need 433 augmented images\n"
     ]
    },
    {
     "name": "stderr",
     "output_type": "stream",
     "text": [
      "Augmenting 19:   5%|▌         | 23/433 [00:00<00:03, 104.62it/s]"
     ]
    },
    {
     "name": "stderr",
     "output_type": "stream",
     "text": [
      "Augmenting 19: 100%|██████████| 433/433 [00:03<00:00, 144.03it/s]\n"
     ]
    },
    {
     "name": "stdout",
     "output_type": "stream",
     "text": [
      "   ✅ Generated 433 augmented images\n",
      "\n",
      "📁 Processing 18: 408 → 500\n",
      "   ⬆️  Need 92 augmented images\n"
     ]
    },
    {
     "name": "stderr",
     "output_type": "stream",
     "text": [
      "Augmenting 18: 100%|██████████| 92/92 [00:00<00:00, 147.73it/s]\n"
     ]
    },
    {
     "name": "stdout",
     "output_type": "stream",
     "text": [
      "   ✅ Generated 92 augmented images\n",
      "\n",
      "📁 Processing 20: 259 → 500\n",
      "   ⬆️  Need 241 augmented images\n"
     ]
    },
    {
     "name": "stderr",
     "output_type": "stream",
     "text": [
      "Augmenting 20: 100%|██████████| 241/241 [00:01<00:00, 219.51it/s]\n"
     ]
    },
    {
     "name": "stdout",
     "output_type": "stream",
     "text": [
      "   ✅ Generated 241 augmented images\n",
      "\n",
      "📁 Processing 3: 38 → 500\n",
      "   ⬆️  Need 462 augmented images\n"
     ]
    },
    {
     "name": "stderr",
     "output_type": "stream",
     "text": [
      "Augmenting 3: 100%|██████████| 462/462 [00:05<00:00, 86.32it/s] \n"
     ]
    },
    {
     "name": "stdout",
     "output_type": "stream",
     "text": [
      "   ✅ Generated 462 augmented images\n",
      "\n",
      "📁 Processing 5: 67 → 500\n",
      "   ⬆️  Need 433 augmented images\n"
     ]
    },
    {
     "name": "stderr",
     "output_type": "stream",
     "text": [
      "Augmenting 5: 100%|██████████| 433/433 [00:05<00:00, 84.61it/s] \n"
     ]
    },
    {
     "name": "stdout",
     "output_type": "stream",
     "text": [
      "   ✅ Generated 433 augmented images\n",
      "\n",
      "📁 Processing 4: 235 → 500\n",
      "   ⬆️  Need 265 augmented images\n"
     ]
    },
    {
     "name": "stderr",
     "output_type": "stream",
     "text": [
      "Augmenting 4: 100%|██████████| 265/265 [00:03<00:00, 79.35it/s]\n"
     ]
    },
    {
     "name": "stdout",
     "output_type": "stream",
     "text": [
      "   ✅ Generated 265 augmented images\n",
      "\n",
      "📁 Processing 6: 159 → 500\n",
      "   ⬆️  Need 341 augmented images\n"
     ]
    },
    {
     "name": "stderr",
     "output_type": "stream",
     "text": [
      "Augmenting 6: 100%|██████████| 341/341 [00:04<00:00, 84.87it/s] \n"
     ]
    },
    {
     "name": "stdout",
     "output_type": "stream",
     "text": [
      "   ✅ Generated 341 augmented images\n",
      "\n",
      "📁 Processing 8: 24 → 500\n",
      "   ⬆️  Need 476 augmented images\n"
     ]
    },
    {
     "name": "stderr",
     "output_type": "stream",
     "text": [
      "Augmenting 8: 100%|██████████| 476/476 [00:05<00:00, 80.40it/s]\n"
     ]
    },
    {
     "name": "stdout",
     "output_type": "stream",
     "text": [
      "   ✅ Generated 476 augmented images\n",
      "\n",
      "📁 Processing 7: 49 → 500\n",
      "   ⬆️  Need 451 augmented images\n"
     ]
    },
    {
     "name": "stderr",
     "output_type": "stream",
     "text": [
      "Augmenting 7: 100%|██████████| 451/451 [00:05<00:00, 89.32it/s] \n"
     ]
    },
    {
     "name": "stdout",
     "output_type": "stream",
     "text": [
      "   ✅ Generated 451 augmented images\n",
      "\n",
      "📁 Processing 9: 131 → 500\n",
      "   ⬆️  Need 369 augmented images\n"
     ]
    },
    {
     "name": "stderr",
     "output_type": "stream",
     "text": [
      "Augmenting 9: 100%|██████████| 369/369 [00:04<00:00, 85.20it/s] "
     ]
    },
    {
     "name": "stdout",
     "output_type": "stream",
     "text": [
      "   ✅ Generated 369 augmented images\n",
      "\n",
      "✅ Balancing completed! Output: classification_balanced_500\n"
     ]
    },
    {
     "name": "stderr",
     "output_type": "stream",
     "text": [
      "\n"
     ]
    }
   ],
   "source": [
    "from simple_balancer import SimpleDataBalancer\n",
    "\n",
    "# Initialize balancer\n",
    "balancer = SimpleDataBalancer(\"classification\", \"classification_balanced_500\")\n",
    "\n",
    "# Check current distribution first (optional)\n",
    "balancer.analyze_distribution()\n",
    "\n",
    "# Balance all classes to exactly 500 images\n",
    "balancer.balance_equal(target_size=500, augmentation_level=\"medium\")"
   ]
  },
  {
   "cell_type": "code",
   "execution_count": 3,
   "id": "6e790112",
   "metadata": {},
   "outputs": [
    {
     "name": "stdout",
     "output_type": "stream",
     "text": [
      "🔗 CSV Combiner initialized\n",
      "   Crack CSV: /root/ak/crack_results_detailed.csv\n",
      "   Damage CSV: /root/ak/damage_results_detailed.csv\n",
      "   Output CSV: combined_results.csv\n",
      "🚀 Starting CSV combination process...\n",
      "📄 Loading crack predictions...\n",
      "   Loaded 160 crack predictions\n",
      "   Grouped into 50 main images\n",
      "     Main 1: 5 sub-images (1_4.jpg, 1_1.jpg, 1_2.jpg...)\n",
      "     Main 2: 6 sub-images (2_6.jpg, 2_2.jpg, 2_3.jpg...)\n",
      "     Main 3: 6 sub-images (3_2.jpg, 3_3.jpg, 3_5.jpg...)\n",
      "     Main 4: 4 sub-images (4_1.jpg, 4_3.jpg, 4_2.jpg...)\n",
      "     Main 5: 2 sub-images (5_1.jpg, 5_2.jpg)\n",
      "\n",
      "📄 Loading damage predictions...\n",
      "   Loaded 50 damage predictions\n",
      "   Created lookup for 50 damage images\n",
      "     ID 1: 1.jpg -> Class 18\n",
      "     ID 2: 2.jpg -> Class 18\n",
      "     ID 3: 3.jpg -> Class 18\n",
      "     ID 4: 4.jpg -> Class 18\n",
      "     ID 5: 5.jpg -> Class 18\n",
      "\n",
      "🔗 Combining predictions...\n",
      "   Combined 50 records\n",
      "\n",
      "💾 Saving combined CSV...\n",
      "   ✅ Saved 50 records to: combined_results.csv\n",
      "\n",
      "📋 Sample records:\n",
      "   1. Damage: 1.jpg\n",
      "      Crack: 1_1.jpg,1_2.jpg,1_3.jpg,1_4.jpg,1_5.jpg\n",
      "      Classes: 18,6,6,6,6,6\n",
      "\n",
      "   2. Damage: 2.jpg\n",
      "      Crack: 2_1.jpg,2_2.jpg,2_3.jpg,2_4.jpg,2_5.jpg,2_6.jpg\n",
      "      Classes: 18,5,6,5,6,6,5\n",
      "\n",
      "   3. Damage: 3.jpg\n",
      "      Crack: 3_1.jpg,3_2.jpg,3_3.jpg,3_4.jpg,3_5.jpg,3_6.jpg\n",
      "      Classes: 18,5,6,5,6,6,5\n",
      "\n",
      "\n",
      "📊 Summary Statistics:\n",
      "   Total combined records: 50\n",
      "   Records with damage predictions: 50\n",
      "   Records with crack predictions: 50\n",
      "   Records with both predictions: 50\n",
      "   Average sub-images per main image: 3.2\n",
      "   Sub-image count range: 1-12\n",
      "\n",
      "🎉 CSV combination completed successfully!\n"
     ]
    }
   ],
   "source": [
    "from csv_combiner import combine_csv_files_simple\n",
    "\n",
    "# Just update your file paths and run\n",
    "combine_csv_files_simple(\n",
    "    crack_csv=\"/root/ak/crack_results_detailed.csv\",      # Your crack CSV file\n",
    "    damage_csv=\"/root/ak/damage_results_detailed.csv\",    # Your damage CSV file  \n",
    "    output_csv=\"combined_results.csv\"       # Output file\n",
    ")"
   ]
  }
 ],
 "metadata": {
  "kernelspec": {
   "display_name": "concrete_env",
   "language": "python",
   "name": "python3"
  },
  "language_info": {
   "codemirror_mode": {
    "name": "ipython",
    "version": 3
   },
   "file_extension": ".py",
   "mimetype": "text/x-python",
   "name": "python",
   "nbconvert_exporter": "python",
   "pygments_lexer": "ipython3",
   "version": "3.10.12"
  }
 },
 "nbformat": 4,
 "nbformat_minor": 5
}
